{
 "cells": [
  {
   "cell_type": "code",
   "execution_count": 1,
   "metadata": {},
   "outputs": [
    {
     "name": "stderr",
     "output_type": "stream",
     "text": [
      "/home/hitkul/anaconda3/envs/PSOSM/lib/python3.6/site-packages/ipykernel_launcher.py:4: TqdmDeprecationWarning: This function will be removed in tqdm==5.0.0\n",
      "Please use `tqdm.notebook.tqdm` instead of `tqdm.tqdm_notebook`\n",
      "  after removing the cwd from sys.path.\n"
     ]
    },
    {
     "data": {
      "application/vnd.jupyter.widget-view+json": {
       "model_id": "37d6f21a20c640b2b6d3fd591476d22b",
       "version_major": 2,
       "version_minor": 0
      },
      "text/plain": [
       "HBox(children=(FloatProgress(value=1.0, bar_style='info', max=1.0), HTML(value='')))"
      ]
     },
     "metadata": {},
     "output_type": "display_data"
    },
    {
     "name": "stdout",
     "output_type": "stream",
     "text": [
      "\n"
     ]
    }
   ],
   "source": [
    "import pandas as pd\n",
    "import json\n",
    "from tqdm import tqdm_notebook as tqdm\n",
    "tqdm().pandas()\n",
    "import datetime\n",
    "import copy\n",
    "import matplotlib.pyplot as plt\n",
    "%matplotlib inline\n",
    "plt.rcParams['figure.figsize'] = [20, 10]\n",
    "import pickle \n",
    "from scipy.stats import iqr"
   ]
  },
  {
   "cell_type": "code",
   "execution_count": 2,
   "metadata": {},
   "outputs": [],
   "source": [
    "with open('data/RT_and_QT_info.json', 'r') as fp:\n",
    "    RT_and_QT_info = json.load(fp)"
   ]
  },
  {
   "cell_type": "code",
   "execution_count": 3,
   "metadata": {},
   "outputs": [],
   "source": [
    "df = pd.read_pickle('data/tweet_data.p')"
   ]
  },
  {
   "cell_type": "code",
   "execution_count": 4,
   "metadata": {},
   "outputs": [],
   "source": [
    "with open('data/all_tweets_timestamp.json', 'r') as fp:\n",
    "    tweet_id_time_stamp = json.load(fp)"
   ]
  },
  {
   "cell_type": "code",
   "execution_count": 5,
   "metadata": {},
   "outputs": [],
   "source": [
    "user_retweet_time_record = dict()\n",
    "tweet_retweet_time_record = dict()\n",
    "datetimeFormat = '%a %b %d %H:%M:%S +0000 %Y'"
   ]
  },
  {
   "cell_type": "code",
   "execution_count": 6,
   "metadata": {},
   "outputs": [],
   "source": [
    "def get_retweet_time(row):\n",
    "    id_ = repr(row['tweet_id'])\n",
    "    creation_date = row['date']\n",
    "    creation_date = datetime.datetime.strptime(creation_date, datetimeFormat)\n",
    "    \n",
    "    retweets = RT_and_QT_info[id_]['retweet_user_info']\n",
    "    quoted = RT_and_QT_info[id_]['quoted_user_info']\n",
    "    \n",
    "    global user_retweet_time_record\n",
    "    global tweet_retweet_time_record\n",
    "    \n",
    "    if id_ not in tweet_retweet_time_record.keys():\n",
    "            tweet_retweet_time_record[id_] = {'retweet':[],'quoted':[]}\n",
    "            \n",
    "    \n",
    "    for r_ids,r_user in retweets.items():\n",
    "        r_date = tweet_id_time_stamp[r_ids]\n",
    "        r_date = datetime.datetime.strptime(r_date, datetimeFormat)\n",
    "        retweet_time = int((r_date-creation_date).total_seconds() / 60)\n",
    "        \n",
    "        \n",
    "        tweet_retweet_time_record[id_]['retweet'].append(retweet_time)\n",
    "        \n",
    "        if r_user[1] not in user_retweet_time_record.keys():\n",
    "            user_retweet_time_record[r_user[1]] = {'retweet':[],'quoted':[]}\n",
    "        user_retweet_time_record[r_user[1]]['retweet'].append(retweet_time)\n",
    "        \n",
    "    for q_ids,q_user in quoted.items():\n",
    "        q_date = tweet_id_time_stamp[q_ids]\n",
    "        q_date = datetime.datetime.strptime(q_date, datetimeFormat)\n",
    "        qout_time = int((q_date-creation_date).total_seconds() / 60)\n",
    "        \n",
    "        \n",
    "        tweet_retweet_time_record[id_]['quoted'].append(qout_time)\n",
    "        \n",
    "        if q_user[1] not in user_retweet_time_record.keys():\n",
    "            user_retweet_time_record[q_user[1]] = {'retweet':[],'quoted':[]}\n",
    "        user_retweet_time_record[q_user[1]]['quoted'].append(qout_time)"
   ]
  },
  {
   "cell_type": "code",
   "execution_count": 7,
   "metadata": {},
   "outputs": [
    {
     "data": {
      "application/vnd.jupyter.widget-view+json": {
       "model_id": "11e84ed3338c4e80b7ed488455e5a08f",
       "version_major": 2,
       "version_minor": 0
      },
      "text/plain": [
       "HBox(children=(FloatProgress(value=0.0, max=10000.0), HTML(value='')))"
      ]
     },
     "metadata": {},
     "output_type": "display_data"
    },
    {
     "name": "stdout",
     "output_type": "stream",
     "text": [
      "\n"
     ]
    },
    {
     "data": {
      "text/plain": [
       "1566831    None\n",
       "1241688    None\n",
       "9968688    None\n",
       "2558232    None\n",
       "3285366    None\n",
       "           ... \n",
       "58569      None\n",
       "8631207    None\n",
       "4539384    None\n",
       "1001734    None\n",
       "781194     None\n",
       "Length: 10000, dtype: object"
      ]
     },
     "execution_count": 7,
     "metadata": {},
     "output_type": "execute_result"
    }
   ],
   "source": [
    "df.progress_apply(lambda row:get_retweet_time(row), axis=1)"
   ]
  },
  {
   "cell_type": "markdown",
   "metadata": {},
   "source": [
    "#### Calculate average RT and QT"
   ]
  },
  {
   "cell_type": "code",
   "execution_count": 9,
   "metadata": {},
   "outputs": [],
   "source": [
    "tweet_avg_rt_all = []\n",
    "tweet_avg_qt_all = []"
   ]
  },
  {
   "cell_type": "code",
   "execution_count": 10,
   "metadata": {},
   "outputs": [],
   "source": [
    "user_avg_rt_all = []\n",
    "user_avg_qt_all = []"
   ]
  },
  {
   "cell_type": "code",
   "execution_count": 11,
   "metadata": {},
   "outputs": [
    {
     "name": "stderr",
     "output_type": "stream",
     "text": [
      "/home/hitkul/anaconda3/envs/PSOSM/lib/python3.6/site-packages/ipykernel_launcher.py:2: TqdmDeprecationWarning: This function will be removed in tqdm==5.0.0\n",
      "Please use `tqdm.notebook.tqdm` instead of `tqdm.tqdm_notebook`\n",
      "  \n"
     ]
    },
    {
     "data": {
      "application/vnd.jupyter.widget-view+json": {
       "model_id": "dad68d5e33aa45079fbcc0a65a760532",
       "version_major": 2,
       "version_minor": 0
      },
      "text/plain": [
       "HBox(children=(FloatProgress(value=0.0, max=10000.0), HTML(value='')))"
      ]
     },
     "metadata": {},
     "output_type": "display_data"
    },
    {
     "name": "stdout",
     "output_type": "stream",
     "text": [
      "\n"
     ]
    }
   ],
   "source": [
    "temp = copy.deepcopy(tweet_retweet_time_record)\n",
    "for id_, value in tqdm(temp.items()):\n",
    "    if len(value['retweet'])!=0:\n",
    "        avg_rt_time = float(sum(value['retweet']))/len(value['retweet'])\n",
    "    else:\n",
    "        avg_rt_time = 0.0\n",
    "        \n",
    "    if len(value['quoted'])!=0:\n",
    "        avg_qt_time = float(sum(value['quoted']))/len(value['quoted'])\n",
    "    else:\n",
    "        avg_qt_time = 0.0\n",
    "    \n",
    "    tweet_avg_rt_all.append(avg_rt_time)\n",
    "    tweet_avg_qt_all.append(avg_qt_time)\n",
    "    tweet_retweet_time_record[id_]['avg_rt_time'] = avg_rt_time\n",
    "    tweet_retweet_time_record[id_]['avg_qt_time'] = avg_qt_time"
   ]
  },
  {
   "cell_type": "code",
   "execution_count": 12,
   "metadata": {},
   "outputs": [
    {
     "name": "stderr",
     "output_type": "stream",
     "text": [
      "/home/hitkul/anaconda3/envs/PSOSM/lib/python3.6/site-packages/ipykernel_launcher.py:2: TqdmDeprecationWarning: This function will be removed in tqdm==5.0.0\n",
      "Please use `tqdm.notebook.tqdm` instead of `tqdm.tqdm_notebook`\n",
      "  \n"
     ]
    },
    {
     "data": {
      "application/vnd.jupyter.widget-view+json": {
       "model_id": "daf3fdcfaff0437fbc8df524fc807074",
       "version_major": 2,
       "version_minor": 0
      },
      "text/plain": [
       "HBox(children=(FloatProgress(value=0.0, max=34567.0), HTML(value='')))"
      ]
     },
     "metadata": {},
     "output_type": "display_data"
    },
    {
     "name": "stdout",
     "output_type": "stream",
     "text": [
      "\n"
     ]
    }
   ],
   "source": [
    "temp = copy.deepcopy(user_retweet_time_record)\n",
    "for id_, value in tqdm(temp.items()):\n",
    "    if len(value['retweet'])!=0:\n",
    "        avg_rt_time = float(sum(value['retweet']))/len(value['retweet'])\n",
    "    else:\n",
    "        avg_rt_time = 0.0\n",
    "        \n",
    "    if len(value['quoted'])!=0:\n",
    "        avg_qt_time = float(sum(value['quoted']))/len(value['quoted'])\n",
    "    else:\n",
    "        avg_qt_time = 0.0\n",
    "    \n",
    "    user_avg_rt_all.append(avg_rt_time)\n",
    "    user_avg_qt_all.append(avg_qt_time)\n",
    "    user_retweet_time_record[id_]['avg_rt_time'] = avg_rt_time\n",
    "    user_retweet_time_record[id_]['avg_qt_time'] = avg_qt_time"
   ]
  },
  {
   "cell_type": "code",
   "execution_count": 13,
   "metadata": {},
   "outputs": [],
   "source": [
    "del(temp)"
   ]
  },
  {
   "cell_type": "markdown",
   "metadata": {},
   "source": [
    "## Analysis"
   ]
  },
  {
   "cell_type": "markdown",
   "metadata": {},
   "source": [
    "#### Analysis of avg rt time for all tweets"
   ]
  },
  {
   "cell_type": "code",
   "execution_count": 14,
   "metadata": {},
   "outputs": [],
   "source": [
    "tweet_avg_rt_all = list(filter(lambda a: a != 0.0, tweet_avg_rt_all))"
   ]
  },
  {
   "cell_type": "code",
   "execution_count": 15,
   "metadata": {},
   "outputs": [
    {
     "name": "stdout",
     "output_type": "stream",
     "text": [
      "5\n"
     ]
    }
   ],
   "source": [
    "print(len([i for i in tweet_avg_rt_all if i<1.0]))"
   ]
  },
  {
   "cell_type": "code",
   "execution_count": 16,
   "metadata": {},
   "outputs": [
    {
     "data": {
      "text/plain": [
       "(array([2.724e+03, 8.000e+00, 4.000e+00, 1.000e+00, 0.000e+00, 0.000e+00,\n",
       "        0.000e+00, 1.000e+00, 0.000e+00, 1.000e+00]),\n",
       " array([5.00000000e-01, 2.98096450e+05, 5.96192400e+05, 8.94288350e+05,\n",
       "        1.19238430e+06, 1.49048025e+06, 1.78857620e+06, 2.08667215e+06,\n",
       "        2.38476810e+06, 2.68286405e+06, 2.98096000e+06]),\n",
       " <a list of 10 Patch objects>)"
      ]
     },
     "execution_count": 16,
     "metadata": {},
     "output_type": "execute_result"
    },
    {
     "data": {
      "image/png": "[encoded data removed]",
      "text/plain": [
       "<Figure size 432x288 with 1 Axes>"
      ]
     },
     "metadata": {
      "needs_background": "light"
     },
     "output_type": "display_data"
    }
   ],
   "source": [
    "plt.hist(tweet_avg_rt_all,log=True)"
   ]
  },
  {
   "cell_type": "markdown",
   "metadata": {},
   "source": [
    "#### Analysis of avg qt time for all tweets"
   ]
  },
  {
   "cell_type": "code",
   "execution_count": 17,
   "metadata": {},
   "outputs": [],
   "source": [
    "tweet_avg_qt_all = list(filter(lambda a: a != 0.0, tweet_avg_qt_all))"
   ]
  },
  {
   "cell_type": "code",
   "execution_count": 18,
   "metadata": {},
   "outputs": [
    {
     "name": "stdout",
     "output_type": "stream",
     "text": [
      "1\n"
     ]
    }
   ],
   "source": [
    "print(len([i for i in tweet_avg_qt_all if i<1.0]))"
   ]
  },
  {
   "cell_type": "code",
   "execution_count": 19,
   "metadata": {},
   "outputs": [
    {
     "data": {
      "text/plain": [
       "(array([701.,   2.,   1.,   3.,   0.,   1.,   0.,   0.,   0.,   1.]),\n",
       " array([4.0000000e-01, 9.0364860e+04, 1.8072932e+05, 2.7109378e+05,\n",
       "        3.6145824e+05, 4.5182270e+05, 5.4218716e+05, 6.3255162e+05,\n",
       "        7.2291608e+05, 8.1328054e+05, 9.0364500e+05]),\n",
       " <a list of 10 Patch objects>)"
      ]
     },
     "execution_count": 19,
     "metadata": {},
     "output_type": "execute_result"
    },
    {
     "data": {
      "image/png": "[encoded data removed]",
      "text/plain": [
       "<Figure size 432x288 with 1 Axes>"
      ]
     },
     "metadata": {
      "needs_background": "light"
     },
     "output_type": "display_data"
    }
   ],
   "source": [
    "plt.hist(tweet_avg_qt_all, log=True)"
   ]
  },
  {
   "cell_type": "markdown",
   "metadata": {},
   "source": [
    "# USER"
   ]
  },
  {
   "cell_type": "markdown",
   "metadata": {},
   "source": [
    "#### Analysis of avg rt time for all users"
   ]
  },
  {
   "cell_type": "code",
   "execution_count": 20,
   "metadata": {},
   "outputs": [
    {
     "name": "stderr",
     "output_type": "stream",
     "text": [
      "/home/hitkul/anaconda3/envs/PSOSM/lib/python3.6/site-packages/ipykernel_launcher.py:1: TqdmDeprecationWarning: This function will be removed in tqdm==5.0.0\n",
      "Please use `tqdm.notebook.tqdm` instead of `tqdm.tqdm_notebook`\n",
      "  \"\"\"Entry point for launching an IPython kernel.\n"
     ]
    },
    {
     "data": {
      "application/vnd.jupyter.widget-view+json": {
       "model_id": "35cc0f64011c40b2967845d39145d197",
       "version_major": 2,
       "version_minor": 0
      },
      "text/plain": [
       "HBox(children=(FloatProgress(value=0.0, max=34567.0), HTML(value='')))"
      ]
     },
     "metadata": {},
     "output_type": "display_data"
    },
    {
     "name": "stdout",
     "output_type": "stream",
     "text": [
      "\n"
     ]
    }
   ],
   "source": [
    "no_of_retweet_per_user = [len(user_retweet_time_record[i][\"retweet\"]) for i in tqdm(user_retweet_time_record.keys()) if len(user_retweet_time_record[i][\"retweet\"])>5]"
   ]
  },
  {
   "cell_type": "code",
   "execution_count": 21,
   "metadata": {},
   "outputs": [
    {
     "data": {
      "text/plain": [
       "56"
      ]
     },
     "execution_count": 21,
     "metadata": {},
     "output_type": "execute_result"
    }
   ],
   "source": [
    "max(no_of_retweet_per_user)"
   ]
  },
  {
   "cell_type": "code",
   "execution_count": 22,
   "metadata": {},
   "outputs": [
    {
     "data": {
      "text/plain": [
       "[56, 53, 19, 17, 17, 17, 16, 16, 15, 15]"
      ]
     },
     "execution_count": 22,
     "metadata": {},
     "output_type": "execute_result"
    }
   ],
   "source": [
    "sorted(no_of_retweet_per_user,reverse=True)[:10]"
   ]
  },
  {
   "cell_type": "code",
   "execution_count": 23,
   "metadata": {},
   "outputs": [
    {
     "data": {
      "text/plain": [
       "(array([312.,  39.,   6.,   0.,   0.,   0.,   0.,   0.,   0.,   2.]),\n",
       " array([ 6., 11., 16., 21., 26., 31., 36., 41., 46., 51., 56.]),\n",
       " <a list of 10 Patch objects>)"
      ]
     },
     "execution_count": 23,
     "metadata": {},
     "output_type": "execute_result"
    },
    {
     "data": {
      "image/png": "[encoded data removed]",
      "text/plain": [
       "<Figure size 432x288 with 1 Axes>"
      ]
     },
     "metadata": {
      "needs_background": "light"
     },
     "output_type": "display_data"
    }
   ],
   "source": [
    "plt.hist(no_of_retweet_per_user,log=True)"
   ]
  },
  {
   "cell_type": "code",
   "execution_count": 24,
   "metadata": {},
   "outputs": [
    {
     "data": {
      "text/plain": [
       "34567"
      ]
     },
     "execution_count": 24,
     "metadata": {},
     "output_type": "execute_result"
    }
   ],
   "source": [
    "len(user_avg_rt_all)"
   ]
  },
  {
   "cell_type": "code",
   "execution_count": 25,
   "metadata": {},
   "outputs": [
    {
     "name": "stderr",
     "output_type": "stream",
     "text": [
      "/home/hitkul/anaconda3/envs/PSOSM/lib/python3.6/site-packages/ipykernel_launcher.py:1: TqdmDeprecationWarning: This function will be removed in tqdm==5.0.0\n",
      "Please use `tqdm.notebook.tqdm` instead of `tqdm.tqdm_notebook`\n",
      "  \"\"\"Entry point for launching an IPython kernel.\n"
     ]
    },
    {
     "data": {
      "application/vnd.jupyter.widget-view+json": {
       "model_id": "6c65c30615b743669db053f883689e46",
       "version_major": 2,
       "version_minor": 0
      },
      "text/plain": [
       "HBox(children=(FloatProgress(value=0.0, max=34567.0), HTML(value='')))"
      ]
     },
     "metadata": {},
     "output_type": "display_data"
    },
    {
     "name": "stdout",
     "output_type": "stream",
     "text": [
      "\n"
     ]
    }
   ],
   "source": [
    "user_avg_rt_all = [user_retweet_time_record[i][\"avg_rt_time\"] for i in tqdm(user_retweet_time_record.keys()) if len(user_retweet_time_record[i][\"retweet\"])>5]"
   ]
  },
  {
   "cell_type": "code",
   "execution_count": 26,
   "metadata": {},
   "outputs": [
    {
     "data": {
      "text/plain": [
       "359"
      ]
     },
     "execution_count": 26,
     "metadata": {},
     "output_type": "execute_result"
    }
   ],
   "source": [
    "len(user_avg_rt_all)"
   ]
  },
  {
   "cell_type": "code",
   "execution_count": 27,
   "metadata": {},
   "outputs": [],
   "source": [
    "user_avg_rt_all = [i for i in user_avg_rt_all if i!=0.0]"
   ]
  },
  {
   "cell_type": "code",
   "execution_count": 28,
   "metadata": {},
   "outputs": [
    {
     "data": {
      "text/plain": [
       "358"
      ]
     },
     "execution_count": 28,
     "metadata": {},
     "output_type": "execute_result"
    }
   ],
   "source": [
    "len(user_avg_rt_all)"
   ]
  },
  {
   "cell_type": "code",
   "execution_count": 29,
   "metadata": {},
   "outputs": [
    {
     "data": {
      "text/plain": [
       "(array([347.,   3.,   2.,   1.,   2.,   1.,   0.,   0.,   1.,   1.]),\n",
       " array([4.28571429e-01, 1.05169143e+04, 2.10334000e+04, 3.15498857e+04,\n",
       "        4.20663714e+04, 5.25828571e+04, 6.30993429e+04, 7.36158286e+04,\n",
       "        8.41323143e+04, 9.46488000e+04, 1.05165286e+05]),\n",
       " <a list of 10 Patch objects>)"
      ]
     },
     "execution_count": 29,
     "metadata": {},
     "output_type": "execute_result"
    },
    {
     "data": {
      "image/png": "[encoded data removed]",
      "text/plain": [
       "<Figure size 432x288 with 1 Axes>"
      ]
     },
     "metadata": {
      "needs_background": "light"
     },
     "output_type": "display_data"
    }
   ],
   "source": [
    "plt.hist(user_avg_rt_all,log=True)"
   ]
  },
  {
   "cell_type": "markdown",
   "metadata": {},
   "source": [
    "#### Analysis of avg qt time for all users"
   ]
  },
  {
   "cell_type": "code",
   "execution_count": 30,
   "metadata": {},
   "outputs": [],
   "source": [
    "user_avg_qt_all = list(filter(lambda a: a != 0.0, user_avg_qt_all))"
   ]
  },
  {
   "cell_type": "code",
   "execution_count": 31,
   "metadata": {},
   "outputs": [
    {
     "name": "stdout",
     "output_type": "stream",
     "text": [
      "1\n"
     ]
    }
   ],
   "source": [
    "print(len([i for i in user_avg_qt_all if i<1.0]))"
   ]
  },
  {
   "cell_type": "code",
   "execution_count": 32,
   "metadata": {},
   "outputs": [
    {
     "data": {
      "text/plain": [
       "(array([2.281e+03, 2.000e+00, 1.000e+00, 3.000e+00, 0.000e+00, 1.000e+00,\n",
       "        0.000e+00, 0.000e+00, 0.000e+00, 1.000e+00]),\n",
       " array([4.0000000e-01, 9.0364860e+04, 1.8072932e+05, 2.7109378e+05,\n",
       "        3.6145824e+05, 4.5182270e+05, 5.4218716e+05, 6.3255162e+05,\n",
       "        7.2291608e+05, 8.1328054e+05, 9.0364500e+05]),\n",
       " <a list of 10 Patch objects>)"
      ]
     },
     "execution_count": 32,
     "metadata": {},
     "output_type": "execute_result"
    },
    {
     "data": {
      "image/png": "[encoded data removed]",
      "text/plain": [
       "<Figure size 432x288 with 1 Axes>"
      ]
     },
     "metadata": {
      "needs_background": "light"
     },
     "output_type": "display_data"
    }
   ],
   "source": [
    "plt.hist(user_avg_qt_all,log=True)"
   ]
  },
  {
   "cell_type": "markdown",
   "metadata": {},
   "source": [
    "Pulling out users with less than 1 avg RT score"
   ]
  },
  {
   "cell_type": "code",
   "execution_count": 33,
   "metadata": {},
   "outputs": [
    {
     "name": "stderr",
     "output_type": "stream",
     "text": [
      "/home/hitkul/anaconda3/envs/PSOSM/lib/python3.6/site-packages/ipykernel_launcher.py:2: TqdmDeprecationWarning: This function will be removed in tqdm==5.0.0\n",
      "Please use `tqdm.notebook.tqdm` instead of `tqdm.tqdm_notebook`\n",
      "  \n"
     ]
    },
    {
     "data": {
      "application/vnd.jupyter.widget-view+json": {
       "model_id": "ded179f218b04a5a984e3ce0958c5e35",
       "version_major": 2,
       "version_minor": 0
      },
      "text/plain": [
       "HBox(children=(FloatProgress(value=0.0, max=34567.0), HTML(value='')))"
      ]
     },
     "metadata": {},
     "output_type": "display_data"
    },
    {
     "name": "stdout",
     "output_type": "stream",
     "text": [
      "\n"
     ]
    }
   ],
   "source": [
    "suspected_users = []\n",
    "for user,values in tqdm(user_retweet_time_record.items()):\n",
    "    if values['avg_rt_time']>0.0 and values['avg_rt_time']<=1.0:\n",
    "        suspected_users.append((user,len(values['retweet'])))"
   ]
  },
  {
   "cell_type": "code",
   "execution_count": 34,
   "metadata": {},
   "outputs": [
    {
     "data": {
      "text/plain": [
       "426"
      ]
     },
     "execution_count": 34,
     "metadata": {},
     "output_type": "execute_result"
    }
   ],
   "source": [
    "len(suspected_users)"
   ]
  },
  {
   "cell_type": "code",
   "execution_count": 35,
   "metadata": {},
   "outputs": [
    {
     "data": {
      "text/plain": [
       "[('mistbag', 7)]"
      ]
     },
     "execution_count": 35,
     "metadata": {},
     "output_type": "execute_result"
    }
   ],
   "source": [
    "list(reversed(sorted(list(filter(lambda x: x[1]>=5, suspected_users)), key=lambda x: x[1])))"
   ]
  },
  {
   "cell_type": "code",
   "execution_count": null,
   "metadata": {},
   "outputs": [],
   "source": []
  }
 ],
 "metadata": {
  "kernelspec": {
   "display_name": "Python 3",
   "language": "python",
   "name": "python3"
  },
  "language_info": {
   "codemirror_mode": {
    "name": "ipython",
    "version": 3
   },
   "file_extension": ".py",
   "mimetype": "text/x-python",
   "name": "python",
   "nbconvert_exporter": "python",
   "pygments_lexer": "ipython3",
   "version": "3.7.3"
  }
 },
 "nbformat": 4,
 "nbformat_minor": 4
}
