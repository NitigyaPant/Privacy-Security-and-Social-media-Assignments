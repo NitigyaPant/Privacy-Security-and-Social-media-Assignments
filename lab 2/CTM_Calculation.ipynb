{
 "cells": [
  {
   "cell_type": "code",
   "execution_count": 1,
   "metadata": {},
   "outputs": [],
   "source": [
    "import pandas as pd\n",
    "import json\n",
    "import pickle\n",
    "from collections import Counter\n",
    "from collections import OrderedDict\n",
    "from operator import itemgetter\n",
    "from tqdm import tqdm_notebook\n",
    "import json\n",
    "import matplotlib.pyplot as plt\n",
    "import powerlaw\n",
    "%matplotlib inline\n",
    "plt.rcParams['figure.figsize'] = [20, 10]"
   ]
  },
  {
   "cell_type": "code",
   "execution_count": 2,
   "metadata": {},
   "outputs": [],
   "source": [
    "with open('data/RT_and_QT_info.json', 'r') as fp:\n",
    "    RT_and_QT_info = json.load(fp)"
   ]
  },
  {
   "cell_type": "code",
   "execution_count": 3,
   "metadata": {},
   "outputs": [],
   "source": [
    "with open('data/hashtag_id_map.json', 'r') as fp:\n",
    "    hashtag_id_map = json.load(fp)"
   ]
  },
  {
   "cell_type": "code",
   "execution_count": 4,
   "metadata": {},
   "outputs": [],
   "source": [
    "df = pd.read_pickle('data/tweet_data.p')"
   ]
  },
  {
   "cell_type": "code",
   "execution_count": 5,
   "metadata": {},
   "outputs": [],
   "source": [
    "hashtags = []\n",
    "count_of_hashtags = []\n",
    "\n",
    "for tag,ids in hashtag_id_map.items():\n",
    "    hashtags.append(tag)\n",
    "    count_of_hashtags.append(len(ids))"
   ]
  },
  {
   "cell_type": "code",
   "execution_count": 6,
   "metadata": {},
   "outputs": [
    {
     "data": {
      "text/plain": [
       "(8515, 8515)"
      ]
     },
     "execution_count": 6,
     "metadata": {},
     "output_type": "execute_result"
    }
   ],
   "source": [
    "len(hashtags),len(count_of_hashtags)"
   ]
  },
  {
   "cell_type": "code",
   "execution_count": 7,
   "metadata": {},
   "outputs": [],
   "source": [
    "count_of_hashtags, hashtags = zip(*sorted(zip(count_of_hashtags, hashtags)))"
   ]
  },
  {
   "cell_type": "code",
   "execution_count": 8,
   "metadata": {},
   "outputs": [
    {
     "data": {
      "text/plain": [
       "('PhirEkBaarModiSarkar',\n",
       " 'Elections2019',\n",
       " 'Congress',\n",
       " 'MainBhiChowkidar',\n",
       " 'LokSabhaElections2019')"
      ]
     },
     "execution_count": 8,
     "metadata": {},
     "output_type": "execute_result"
    }
   ],
   "source": [
    "hashtags[-5:]"
   ]
  },
  {
   "cell_type": "code",
   "execution_count": 9,
   "metadata": {},
   "outputs": [],
   "source": [
    "number_to_extract = len(count_of_hashtags)-sum([count_of_hashtags.count(i) for i in range(10)])"
   ]
  },
  {
   "cell_type": "markdown",
   "metadata": {},
   "source": [
    "## CTM helper functions"
   ]
  },
  {
   "cell_type": "code",
   "execution_count": 10,
   "metadata": {},
   "outputs": [],
   "source": [
    "def get_RT_traffic_all(tag,K):\n",
    "    total_RT =  0\n",
    "    K['sum'] = K['adjusted_RT'] + K['adjusted_QT']\n",
    "    total_RT += K['sum'].sum()\n",
    "    return total_RT"
   ]
  },
  {
   "cell_type": "code",
   "execution_count": 11,
   "metadata": {},
   "outputs": [],
   "source": [
    "def get_RT_traffic_dataset(tag):\n",
    "    total_RT = 0\n",
    "    for i in hashtag_id_map[tag]:\n",
    "        total_RT+=RT_and_QT_info[repr(i)]['retweet_count_added']\n",
    "        total_RT+=RT_and_QT_info[repr(i)]['quoted_count_added']\n",
    "    return total_RT"
   ]
  },
  {
   "cell_type": "code",
   "execution_count": 12,
   "metadata": {},
   "outputs": [],
   "source": [
    "def get_total_traffic(tag,RT_traffic):\n",
    "    return len(hashtag_id_map[tag])+RT_traffic"
   ]
  },
  {
   "cell_type": "code",
   "execution_count": 13,
   "metadata": {},
   "outputs": [],
   "source": [
    "def get_total_users_for_tag(tag,K):\n",
    "    user_ids = []\n",
    "    user_ids.extend(K['user_id'])\n",
    "    for i in K['tweet_id']:\n",
    "        user_ids.extend([j[0] for j in RT_and_QT_info[repr(i)]['retweet_user_info'].values()])\n",
    "        user_ids.extend([j[0] for j in RT_and_QT_info[repr(i)]['quoted_user_info'].values()])\n",
    "    return user_ids"
   ]
  },
  {
   "cell_type": "code",
   "execution_count": 14,
   "metadata": {},
   "outputs": [],
   "source": [
    "def get_percentage_traffic_by_active_users(users,total_traffic):\n",
    "    if len(set(users))<50:\n",
    "        return 1\n",
    "    else:\n",
    "        count_of_each_user = Counter(users)\n",
    "        sorted_dict = sorted(count_of_each_user.items(), key = itemgetter(1), reverse = True)\n",
    "        traffic_of_active_users = 0\n",
    "        for i,j in sorted_dict[:50]:\n",
    "            traffic_of_active_users+=j\n",
    "\n",
    "        return float(traffic_of_active_users)/total_traffic"
   ]
  },
  {
   "cell_type": "code",
   "execution_count": 15,
   "metadata": {},
   "outputs": [],
   "source": [
    "def get_required_values(tag):\n",
    "    K = df[df.tweet_id.isin(hashtag_id_map[tag])]\n",
    "    RT_total_traffic = get_RT_traffic_dataset(tag)\n",
    "#     RT_total_traffic = get_RT_traffic_all(tag,K)\n",
    "    total_traffic = get_total_traffic(tag,RT_total_traffic)\n",
    "    users = get_total_users_for_tag(tag,K)\n",
    "    \n",
    "    # Avg tweet per user\n",
    "    avg_tweet_per_user = float(total_traffic)/len(set(users))\n",
    "    \n",
    "    # proportion of RT \n",
    "    proportion_of_RT = (float(RT_total_traffic)/total_traffic)*100\n",
    "    \n",
    "    # proportion of traffic produced by 50 most active users\n",
    "    proportion_of_traffic_by_active_users = get_percentage_traffic_by_active_users(users,total_traffic)*100\n",
    "    \n",
    "    return avg_tweet_per_user, proportion_of_RT, proportion_of_traffic_by_active_users"
   ]
  },
  {
   "cell_type": "code",
   "execution_count": 16,
   "metadata": {},
   "outputs": [],
   "source": [
    "def calculate_ctm(avg_tweet_per_user, proportion_of_RT, proportion_of_traffic_by_active_users):\n",
    "    return avg_tweet_per_user + proportion_of_traffic_by_active_users + (proportion_of_RT/10.0)"
   ]
  },
  {
   "cell_type": "code",
   "execution_count": 17,
   "metadata": {},
   "outputs": [],
   "source": [
    "hashtag_CTM = dict()"
   ]
  },
  {
   "cell_type": "code",
   "execution_count": 18,
   "metadata": {},
   "outputs": [
    {
     "name": "stderr",
     "output_type": "stream",
     "text": [
      "/home/hitkul/anaconda3/envs/PSOSM/lib/python3.6/site-packages/ipykernel_launcher.py:1: TqdmDeprecationWarning: This function will be removed in tqdm==5.0.0\n",
      "Please use `tqdm.notebook.tqdm` instead of `tqdm.tqdm_notebook`\n",
      "  \"\"\"Entry point for launching an IPython kernel.\n"
     ]
    },
    {
     "data": {
      "application/vnd.jupyter.widget-view+json": {
       "model_id": "87eaaf23f5ec4537b892b53bc532594e",
       "version_major": 2,
       "version_minor": 0
      },
      "text/plain": [
       "HBox(children=(FloatProgress(value=0.0, max=321.0), HTML(value='')))"
      ]
     },
     "metadata": {},
     "output_type": "display_data"
    },
    {
     "name": "stdout",
     "output_type": "stream",
     "text": [
      "\n"
     ]
    }
   ],
   "source": [
    "for tag in tqdm_notebook(hashtags[::-1][:number_to_extract]):\n",
    "    avg_tweet_per_user, proportion_of_RT, proportion_of_traffic_by_active_users = get_required_values(tag)\n",
    "    ctm = calculate_ctm(avg_tweet_per_user, proportion_of_RT, proportion_of_traffic_by_active_users)\n",
    "    hashtag_CTM[tag] = {'avg_tweet_per_user':avg_tweet_per_user,\n",
    "                     'proportion_of_RT':proportion_of_RT,\n",
    "                     'proportion_of_traffic_by_active_users':proportion_of_traffic_by_active_users,\n",
    "                     'ctm':ctm\n",
    "                    }"
   ]
  },
  {
   "cell_type": "markdown",
   "metadata": {},
   "source": [
    "## Analysis - total number of post by each user"
   ]
  },
  {
   "cell_type": "code",
   "execution_count": 20,
   "metadata": {},
   "outputs": [],
   "source": [
    "def get_all_users():\n",
    "    all_users = []\n",
    "    all_users.extend(df['user_id'])\n",
    "    for i in df['tweet_id']:\n",
    "        all_users.extend([j[0] for j in RT_and_QT_info[repr(i)]['retweet_user_info'].values()])\n",
    "        all_users.extend([j[0] for j in RT_and_QT_info[repr(i)]['quoted_user_info'].values()])\n",
    "    return all_users"
   ]
  },
  {
   "cell_type": "code",
   "execution_count": 21,
   "metadata": {},
   "outputs": [],
   "source": [
    "all_users = get_all_users()"
   ]
  },
  {
   "cell_type": "code",
   "execution_count": 22,
   "metadata": {},
   "outputs": [
    {
     "data": {
      "text/plain": [
       "56927"
      ]
     },
     "execution_count": 22,
     "metadata": {},
     "output_type": "execute_result"
    }
   ],
   "source": [
    "len(all_users)"
   ]
  },
  {
   "cell_type": "code",
   "execution_count": 23,
   "metadata": {},
   "outputs": [
    {
     "data": {
      "text/plain": [
       "41554"
      ]
     },
     "execution_count": 23,
     "metadata": {},
     "output_type": "execute_result"
    }
   ],
   "source": [
    "len(set(all_users))"
   ]
  },
  {
   "cell_type": "code",
   "execution_count": 24,
   "metadata": {},
   "outputs": [],
   "source": [
    "count_of_all_user = Counter(all_users)"
   ]
  },
  {
   "cell_type": "code",
   "execution_count": 25,
   "metadata": {},
   "outputs": [],
   "source": [
    "count_of_all_user_sorted =sorted(count_of_all_user.items(), key = itemgetter(1), reverse = True)"
   ]
  },
  {
   "cell_type": "code",
   "execution_count": 26,
   "metadata": {},
   "outputs": [
    {
     "name": "stdout",
     "output_type": "stream",
     "text": [
      "(1030395105713111040, 57)\n",
      "(1036498916374659079, 56)\n",
      "(995228712067973121, 42)\n",
      "(1026523922219638784, 23)\n",
      "(2307712298, 19)\n",
      "(736533261145382914, 19)\n",
      "(762477085814198273, 18)\n",
      "(42606652, 17)\n",
      "(1013725556913786880, 17)\n",
      "(4088567898, 17)\n"
     ]
    }
   ],
   "source": [
    "for j in count_of_all_user_sorted[:10]:\n",
    "    print(j)"
   ]
  },
  {
   "cell_type": "code",
   "execution_count": 27,
   "metadata": {},
   "outputs": [],
   "source": [
    "count_value_of_all_users = [i[1] for i in count_of_all_user_sorted]"
   ]
  },
  {
   "cell_type": "code",
   "execution_count": 28,
   "metadata": {},
   "outputs": [
    {
     "data": {
      "text/plain": [
       "(array([4.1247e+04, 2.7400e+02, 2.6000e+01, 4.0000e+00, 0.0000e+00,\n",
       "        0.0000e+00, 0.0000e+00, 1.0000e+00, 0.0000e+00, 2.0000e+00]),\n",
       " array([ 1. ,  6.6, 12.2, 17.8, 23.4, 29. , 34.6, 40.2, 45.8, 51.4, 57. ]),\n",
       " <a list of 10 Patch objects>)"
      ]
     },
     "execution_count": 28,
     "metadata": {},
     "output_type": "execute_result"
    },
    {
     "data": {
      "image/png": "[encoded data removed]",
      "text/plain": [
       "<Figure size 432x288 with 1 Axes>"
      ]
     },
     "metadata": {
      "needs_background": "light"
     },
     "output_type": "display_data"
    }
   ],
   "source": [
    "plt.hist(count_value_of_all_users,log=True)"
   ]
  },
  {
   "cell_type": "code",
   "execution_count": 29,
   "metadata": {},
   "outputs": [],
   "source": [
    "def fit_powerlaw(seq):\n",
    "    fit = powerlaw.Fit(pd.np.array(seq)+1,xmin=1,discrete=True)\n",
    "    fit.power_law.plot_pdf( color= 'b',linestyle='--',label='fit ccdf')\n",
    "    fit.plot_pdf( color= 'b')\n",
    "\n",
    "    print('alpha= ',fit.power_law.alpha,'  sigma= ',fit.power_law.sigma)"
   ]
  },
  {
   "cell_type": "code",
   "execution_count": 30,
   "metadata": {},
   "outputs": [
    {
     "name": "stderr",
     "output_type": "stream",
     "text": [
      "/home/hitkul/anaconda3/envs/PSOSM/lib/python3.6/site-packages/ipykernel_launcher.py:2: FutureWarning: The pandas.np module is deprecated and will be removed from pandas in a future version. Import numpy directly instead\n",
      "  \n"
     ]
    },
    {
     "name": "stdout",
     "output_type": "stream",
     "text": [
      "alpha=  1.6643184024023632   sigma=  0.0032588912286984593\n"
     ]
    },
    {
     "data": {
      "image/png": "[encoded data removed]",
      "text/plain": [
       "<Figure size 432x288 with 1 Axes>"
      ]
     },
     "metadata": {
      "needs_background": "light"
     },
     "output_type": "display_data"
    }
   ],
   "source": [
    "fit_powerlaw(count_value_of_all_users)"
   ]
  },
  {
   "cell_type": "markdown",
   "metadata": {},
   "source": [
    "## Analysis - Values for CTM"
   ]
  },
  {
   "cell_type": "code",
   "execution_count": 31,
   "metadata": {},
   "outputs": [],
   "source": [
    "avg_tweet_per_user_list=[]\n",
    "proportion_of_RT_list=[]\n",
    "proportion_of_traffic_by_active_users_list=[]\n",
    "ctm_list=[]"
   ]
  },
  {
   "cell_type": "code",
   "execution_count": 32,
   "metadata": {},
   "outputs": [],
   "source": [
    "for tag_,values_ in hashtag_CTM.items():\n",
    "    avg_tweet_per_user_list.append(values_['avg_tweet_per_user'])\n",
    "    proportion_of_RT_list.append(values_['proportion_of_RT'])\n",
    "    proportion_of_traffic_by_active_users_list.append(values_['proportion_of_traffic_by_active_users'])\n",
    "    ctm_list.append(values_['ctm'])"
   ]
  },
  {
   "cell_type": "code",
   "execution_count": 33,
   "metadata": {},
   "outputs": [
    {
     "data": {
      "text/plain": [
       "(321, 321, 321, 321)"
      ]
     },
     "execution_count": 33,
     "metadata": {},
     "output_type": "execute_result"
    }
   ],
   "source": [
    "len(avg_tweet_per_user_list),len(proportion_of_RT_list),len(proportion_of_traffic_by_active_users_list),len(ctm_list)"
   ]
  },
  {
   "cell_type": "markdown",
   "metadata": {},
   "source": [
    "### Average tweet per user"
   ]
  },
  {
   "cell_type": "code",
   "execution_count": 34,
   "metadata": {},
   "outputs": [
    {
     "data": {
      "text/plain": [
       "8.307692307692308"
      ]
     },
     "execution_count": 34,
     "metadata": {},
     "output_type": "execute_result"
    }
   ],
   "source": [
    "max(avg_tweet_per_user_list)"
   ]
  },
  {
   "cell_type": "code",
   "execution_count": 35,
   "metadata": {},
   "outputs": [
    {
     "data": {
      "text/plain": [
       "(array([310.,   4.,   5.,   0.,   0.,   0.,   1.,   0.,   0.,   1.]),\n",
       " array([1.        , 1.73076923, 2.46153846, 3.19230769, 3.92307692,\n",
       "        4.65384615, 5.38461538, 6.11538462, 6.84615385, 7.57692308,\n",
       "        8.30769231]),\n",
       " <a list of 10 Patch objects>)"
      ]
     },
     "execution_count": 35,
     "metadata": {},
     "output_type": "execute_result"
    },
    {
     "data": {
      "image/png": "[encoded data removed]",
      "text/plain": [
       "<Figure size 432x288 with 1 Axes>"
      ]
     },
     "metadata": {
      "needs_background": "light"
     },
     "output_type": "display_data"
    }
   ],
   "source": [
    "plt.hist(avg_tweet_per_user_list)"
   ]
  },
  {
   "cell_type": "code",
   "execution_count": 36,
   "metadata": {},
   "outputs": [
    {
     "data": {
      "text/plain": [
       "(array([310.,   4.,   5.,   0.,   0.,   0.,   1.,   0.,   0.,   1.]),\n",
       " array([1.        , 1.73076923, 2.46153846, 3.19230769, 3.92307692,\n",
       "        4.65384615, 5.38461538, 6.11538462, 6.84615385, 7.57692308,\n",
       "        8.30769231]),\n",
       " <a list of 10 Patch objects>)"
      ]
     },
     "execution_count": 36,
     "metadata": {},
     "output_type": "execute_result"
    },
    {
     "data": {
      "image/png": "[encoded data removed]",
      "text/plain": [
       "<Figure size 432x288 with 1 Axes>"
      ]
     },
     "metadata": {
      "needs_background": "light"
     },
     "output_type": "display_data"
    }
   ],
   "source": [
    "plt.hist(avg_tweet_per_user_list, log=True)"
   ]
  },
  {
   "cell_type": "code",
   "execution_count": 37,
   "metadata": {},
   "outputs": [
    {
     "name": "stderr",
     "output_type": "stream",
     "text": [
      "/home/hitkul/anaconda3/envs/PSOSM/lib/python3.6/site-packages/ipykernel_launcher.py:2: FutureWarning: The pandas.np module is deprecated and will be removed from pandas in a future version. Import numpy directly instead\n",
      "  \n"
     ]
    },
    {
     "name": "stdout",
     "output_type": "stream",
     "text": [
      "alpha=  1.6907047423677775   sigma=  0.038551379364041065\n"
     ]
    },
    {
     "data": {
      "image/png": "[encoded data removed]",
      "text/plain": [
       "<Figure size 432x288 with 1 Axes>"
      ]
     },
     "metadata": {
      "needs_background": "light"
     },
     "output_type": "display_data"
    }
   ],
   "source": [
    "fit_powerlaw(avg_tweet_per_user_list)"
   ]
  },
  {
   "cell_type": "markdown",
   "metadata": {},
   "source": [
    "### Proportion of RT as traffic"
   ]
  },
  {
   "cell_type": "code",
   "execution_count": 2,
   "metadata": {},
   "outputs": [
    {
     "ename": "NameError",
     "evalue": "name 'proportion_of_RT_list' is not defined",
     "output_type": "error",
     "traceback": [
      "\u001b[0;31m---------------------------------------------------------------------------\u001b[0m",
      "\u001b[0;31mNameError\u001b[0m                                 Traceback (most recent call last)",
      "\u001b[0;32m<ipython-input-2-a6510438185a>\u001b[0m in \u001b[0;36m<module>\u001b[0;34m\u001b[0m\n\u001b[0;32m----> 1\u001b[0;31m \u001b[0mmax\u001b[0m\u001b[0;34m(\u001b[0m\u001b[0mproportion_of_RT_list\u001b[0m\u001b[0;34m)\u001b[0m\u001b[0;34m\u001b[0m\u001b[0;34m\u001b[0m\u001b[0m\n\u001b[0m",
      "\u001b[0;31mNameError\u001b[0m: name 'proportion_of_RT_list' is not defined"
     ]
    }
   ],
   "source": [
    "max(proportion_of_RT_list)"
   ]
  },
  {
   "cell_type": "code",
   "execution_count": 1,
   "metadata": {},
   "outputs": [
    {
     "ename": "NameError",
     "evalue": "name 'plt' is not defined",
     "output_type": "error",
     "traceback": [
      "\u001b[0;31m---------------------------------------------------------------------------\u001b[0m",
      "\u001b[0;31mNameError\u001b[0m                                 Traceback (most recent call last)",
      "\u001b[0;32m<ipython-input-1-8c058175adb3>\u001b[0m in \u001b[0;36m<module>\u001b[0;34m\u001b[0m\n\u001b[0;32m----> 1\u001b[0;31m \u001b[0mplt\u001b[0m\u001b[0;34m.\u001b[0m\u001b[0mhist\u001b[0m\u001b[0;34m(\u001b[0m\u001b[0mproportion_of_RT_list\u001b[0m\u001b[0;34m,\u001b[0m\u001b[0mbins\u001b[0m\u001b[0;34m=\u001b[0m\u001b[0;34m'fd'\u001b[0m\u001b[0;34m)\u001b[0m\u001b[0;34m\u001b[0m\u001b[0;34m\u001b[0m\u001b[0m\n\u001b[0m",
      "\u001b[0;31mNameError\u001b[0m: name 'plt' is not defined"
     ]
    }
   ],
   "source": [
    "plt.hist(proportion_of_RT_list,bins='fd')"
   ]
  },
  {
   "cell_type": "markdown",
   "metadata": {},
   "source": [
    "### Proportion of traffic by active users"
   ]
  },
  {
   "cell_type": "code",
   "execution_count": 40,
   "metadata": {},
   "outputs": [
    {
     "data": {
      "text/plain": [
       "100"
      ]
     },
     "execution_count": 40,
     "metadata": {},
     "output_type": "execute_result"
    }
   ],
   "source": [
    "max(proportion_of_traffic_by_active_users_list)"
   ]
  },
  {
   "cell_type": "code",
   "execution_count": 41,
   "metadata": {},
   "outputs": [
    {
     "data": {
      "text/plain": [
       "(array([ 34.,  22.,  20.,  32.,  16.,  27., 170.]),\n",
       " array([  3.08030803,  16.92597831,  30.77164859,  44.61731887,\n",
       "         58.46298916,  72.30865944,  86.15432972, 100.        ]),\n",
       " <a list of 7 Patch objects>)"
      ]
     },
     "execution_count": 41,
     "metadata": {},
     "output_type": "execute_result"
    },
    {
     "data": {
      "image/png": "[encoded data removed]",
      "text/plain": [
       "<Figure size 432x288 with 1 Axes>"
      ]
     },
     "metadata": {
      "needs_background": "light"
     },
     "output_type": "display_data"
    }
   ],
   "source": [
    "plt.hist(proportion_of_traffic_by_active_users_list,bins='fd')"
   ]
  },
  {
   "cell_type": "markdown",
   "metadata": {},
   "source": [
    "### CTM"
   ]
  },
  {
   "cell_type": "code",
   "execution_count": 42,
   "metadata": {},
   "outputs": [
    {
     "data": {
      "text/plain": [
       "(116.82621082621083, 13.637066557667415)"
      ]
     },
     "execution_count": 42,
     "metadata": {},
     "output_type": "execute_result"
    }
   ],
   "source": [
    "max(ctm_list),min(ctm_list)"
   ]
  },
  {
   "cell_type": "code",
   "execution_count": 43,
   "metadata": {},
   "outputs": [
    {
     "data": {
      "text/plain": [
       "(array([ 28.,  22.,  14.,  15.,  25.,  16.,  14.,  18., 124.,  45.]),\n",
       " array([ 13.63706656,  23.95598098,  34.27489541,  44.59380984,\n",
       "         54.91272427,  65.23163869,  75.55055312,  85.86946755,\n",
       "         96.18838197, 106.5072964 , 116.82621083]),\n",
       " <a list of 10 Patch objects>)"
      ]
     },
     "execution_count": 43,
     "metadata": {},
     "output_type": "execute_result"
    },
    {
     "data": {
      "image/png": "[encoded data removed]",
      "text/plain": [
       "<Figure size 432x288 with 1 Axes>"
      ]
     },
     "metadata": {
      "needs_background": "light"
     },
     "output_type": "display_data"
    }
   ],
   "source": [
    "plt.hist(ctm_list)"
   ]
  },
  {
   "cell_type": "code",
   "execution_count": 44,
   "metadata": {},
   "outputs": [
    {
     "data": {
      "text/plain": [
       "(array([ 28.,  22.,  14.,  15.,  25.,  16.,  14.,  18., 124.,  45.]),\n",
       " array([ 13.63706656,  23.95598098,  34.27489541,  44.59380984,\n",
       "         54.91272427,  65.23163869,  75.55055312,  85.86946755,\n",
       "         96.18838197, 106.5072964 , 116.82621083]),\n",
       " <a list of 10 Patch objects>)"
      ]
     },
     "execution_count": 44,
     "metadata": {},
     "output_type": "execute_result"
    },
    {
     "data": {
      "image/png": "[encoded data removed]",
      "text/plain": [
       "<Figure size 432x288 with 1 Axes>"
      ]
     },
     "metadata": {
      "needs_background": "light"
     },
     "output_type": "display_data"
    }
   ],
   "source": [
    "plt.hist(ctm_list,log=True)"
   ]
  },
  {
   "cell_type": "code",
   "execution_count": 45,
   "metadata": {},
   "outputs": [
    {
     "name": "stderr",
     "output_type": "stream",
     "text": [
      "/home/hitkul/anaconda3/envs/PSOSM/lib/python3.6/site-packages/ipykernel_launcher.py:2: FutureWarning: The pandas.np module is deprecated and will be removed from pandas in a future version. Import numpy directly instead\n",
      "  \n"
     ]
    },
    {
     "name": "stdout",
     "output_type": "stream",
     "text": [
      "alpha=  1.2014935436242653   sigma=  0.011246272919793975\n"
     ]
    },
    {
     "data": {
      "image/png": "[encoded data removed]",
      "text/plain": [
       "<Figure size 432x288 with 1 Axes>"
      ]
     },
     "metadata": {
      "needs_background": "light"
     },
     "output_type": "display_data"
    }
   ],
   "source": [
    "fit_powerlaw(ctm_list)"
   ]
  },
  {
   "cell_type": "code",
   "execution_count": null,
   "metadata": {},
   "outputs": [],
   "source": []
  }
 ],
 "metadata": {
  "kernelspec": {
   "display_name": "Python 3",
   "language": "python",
   "name": "python3"
  },
  "language_info": {
   "codemirror_mode": {
    "name": "ipython",
    "version": 3
   },
   "file_extension": ".py",
   "mimetype": "text/x-python",
   "name": "python",
   "nbconvert_exporter": "python",
   "pygments_lexer": "ipython3",
   "version": "3.7.3"
  }
 },
 "nbformat": 4,
 "nbformat_minor": 2
}
